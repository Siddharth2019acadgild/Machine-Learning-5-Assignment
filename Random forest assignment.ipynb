{
 "cells": [
  {
   "cell_type": "code",
   "execution_count": 170,
   "metadata": {},
   "outputs": [],
   "source": [
    "import numpy as np\n",
    "import pandas as pd\n",
    "import matplotlib.pyplot as plt\n",
    "import seaborn as sns\n",
    "from sklearn.model_selection import train_test_split\n",
    "from sklearn.preprocessing import StandardScaler\n",
    "from sklearn import datasets\n",
    "boston = datasets.load_boston()\n",
    "ft = pd.DataFrame(boston.data, columns=boston.feature_names) \n",
    "targets = boston.target\n"
   ]
  },
  {
   "cell_type": "code",
   "execution_count": 172,
   "metadata": {},
   "outputs": [
    {
     "data": {
      "text/plain": [
       "Index(['CRIM', 'ZN', 'INDUS', 'CHAS', 'NOX', 'RM', 'AGE', 'DIS', 'RAD', 'TAX',\n",
       "       'PTRATIO', 'B', 'LSTAT'],\n",
       "      dtype='object')"
      ]
     },
     "execution_count": 172,
     "metadata": {},
     "output_type": "execute_result"
    }
   ],
   "source": [
    "ft.columns"
   ]
  },
  {
   "cell_type": "code",
   "execution_count": 173,
   "metadata": {},
   "outputs": [
    {
     "data": {
      "text/plain": [
       "array([[6.3200e-03, 1.8000e+01, 2.3100e+00, ..., 1.5300e+01, 3.9690e+02,\n",
       "        4.9800e+00],\n",
       "       [2.7310e-02, 0.0000e+00, 7.0700e+00, ..., 1.7800e+01, 3.9690e+02,\n",
       "        9.1400e+00],\n",
       "       [2.7290e-02, 0.0000e+00, 7.0700e+00, ..., 1.7800e+01, 3.9283e+02,\n",
       "        4.0300e+00],\n",
       "       ...,\n",
       "       [6.0760e-02, 0.0000e+00, 1.1930e+01, ..., 2.1000e+01, 3.9690e+02,\n",
       "        5.6400e+00],\n",
       "       [1.0959e-01, 0.0000e+00, 1.1930e+01, ..., 2.1000e+01, 3.9345e+02,\n",
       "        6.4800e+00],\n",
       "       [4.7410e-02, 0.0000e+00, 1.1930e+01, ..., 2.1000e+01, 3.9690e+02,\n",
       "        7.8800e+00]])"
      ]
     },
     "execution_count": 173,
     "metadata": {},
     "output_type": "execute_result"
    }
   ],
   "source": [
    "boston.data"
   ]
  },
  {
   "cell_type": "code",
   "execution_count": 171,
   "metadata": {},
   "outputs": [],
   "source": [
    "import pandas as pd\n",
    "import numpy as np\n",
    "from sklearn.tree import DecisionTreeClassifier\n",
    "from sklearn.metrics import roc_auc_score\n",
    "from sklearn.model_selection import train_test_split, cross_val_score\n",
    "from sklearn.ensemble import BaggingRegressor\n",
    "from sklearn.tree import DecisionTreeRegressor\n",
    "bag_tree = BaggingRegressor(DecisionTreeRegressor(),\n",
    "                           max_features=0.5, n_estimators=10, \n",
    "                           random_state=3)"
   ]
  },
  {
   "cell_type": "code",
   "execution_count": 175,
   "metadata": {},
   "outputs": [],
   "source": [
    "x=np.array(boston.data)"
   ]
  },
  {
   "cell_type": "code",
   "execution_count": 176,
   "metadata": {},
   "outputs": [],
   "source": [
    "y=np.array(targets)"
   ]
  },
  {
   "cell_type": "code",
   "execution_count": null,
   "metadata": {},
   "outputs": [],
   "source": []
  },
  {
   "cell_type": "code",
   "execution_count": 177,
   "metadata": {},
   "outputs": [
    {
     "name": "stderr",
     "output_type": "stream",
     "text": [
      "/anaconda3/lib/python3.7/site-packages/sklearn/model_selection/_split.py:2179: FutureWarning: From version 0.21, test_size will always complement train_size unless both are specified.\n",
      "  FutureWarning)\n"
     ]
    }
   ],
   "source": [
    "x_train, x_test, y_train, y_test = train_test_split(x, y, train_size=0.5, random_state=0)\n",
    "\n"
   ]
  },
  {
   "cell_type": "code",
   "execution_count": 178,
   "metadata": {},
   "outputs": [],
   "source": [
    "from sklearn.ensemble import BaggingClassifier, RandomForestClassifier, BaggingRegressor, RandomForestRegressor\n",
    "\n"
   ]
  },
  {
   "cell_type": "code",
   "execution_count": 179,
   "metadata": {
    "scrolled": false
   },
   "outputs": [
    {
     "name": "stderr",
     "output_type": "stream",
     "text": [
      "/anaconda3/lib/python3.7/site-packages/sklearn/ensemble/forest.py:246: FutureWarning: The default value of n_estimators will change from 10 in version 0.20 to 100 in 0.22.\n",
      "  \"10 in version 0.20 to 100 in 0.22.\", FutureWarning)\n",
      "/anaconda3/lib/python3.7/site-packages/sklearn/ensemble/forest.py:246: FutureWarning: The default value of n_estimators will change from 10 in version 0.20 to 100 in 0.22.\n",
      "  \"10 in version 0.20 to 100 in 0.22.\", FutureWarning)\n"
     ]
    },
    {
     "data": {
      "text/plain": [
       "RandomForestRegressor(bootstrap=True, criterion='mse', max_depth=5,\n",
       "           max_features='auto', max_leaf_nodes=None,\n",
       "           min_impurity_decrease=0.0, min_impurity_split=None,\n",
       "           min_samples_leaf=1, min_samples_split=2,\n",
       "           min_weight_fraction_leaf=0.0, n_estimators=10, n_jobs=None,\n",
       "           oob_score=False, random_state=1, verbose=0, warm_start=False)"
      ]
     },
     "execution_count": 179,
     "metadata": {},
     "output_type": "execute_result"
    }
   ],
   "source": [
    "rgs = RandomForestRegressor(random_state=1, min_samples_leaf=2)\n",
    "rgs.fit(x_train, y_train)\n",
    "\n",
    "rgs2 = RandomForestRegressor(random_state=1, max_depth=5)\n",
    "rgs2.fit(x_train, y_train)"
   ]
  },
  {
   "cell_type": "code",
   "execution_count": 196,
   "metadata": {},
   "outputs": [],
   "source": [
    "predictions  = rgs.predict(x_test)\n",
    "\n",
    "predictions2 = rgs2.predict(x_test)\n"
   ]
  },
  {
   "cell_type": "code",
   "execution_count": 198,
   "metadata": {},
   "outputs": [
    {
     "name": "stdout",
     "output_type": "stream",
     "text": [
      "[24.80783333 22.41083333 24.59930952  9.43333333 20.78733333 20.7012381\n",
      " 21.80583333 20.17783333 20.983      20.46702381  8.50642857 13.00035714\n",
      " 15.64083333  8.95583333 48.71333333 31.54083333 20.93985714 35.22880952\n",
      " 28.22       20.95933333 23.54038095 20.07266667 20.07       23.95985714\n",
      " 21.34366667 16.66716667 19.076      14.84833333 38.37347619 18.18480952\n",
      " 15.62464286 20.68033333 21.49085714 21.04666667 24.24214286 18.71083333\n",
      "  9.36       21.72883333 14.975      13.67040476 22.92130952 20.382\n",
      " 22.10814286 14.90383333 24.35238095 22.6915     20.83       15.87416667\n",
      " 15.56183333 24.71714286 15.73733333 18.67566667 19.78133333 38.992\n",
      " 13.53383333 18.57390476 20.11266667 18.48416667 19.51983333 19.46283333\n",
      " 21.2485     22.24766667 30.68666667 32.994      21.57333333 30.63616667\n",
      " 16.43916667 17.0425     13.78969048 21.78516667 19.87411905 22.5095\n",
      " 26.63       30.81916667 29.95130952  9.43416667 40.80614286 22.56602381\n",
      " 22.4465     20.03583333 27.78566667 19.26616667 16.46716667 40.98214286\n",
      " 42.175      24.533      24.06685714 16.926      28.62666667 17.645\n",
      " 20.48       12.96266667 23.567      30.525      21.32345238 21.6317381\n",
      "  9.1425     23.59833333 15.51935714 19.088      23.99202381 20.76333333\n",
      " 28.079      21.92016667 26.25566667 20.95707143  8.7752381  17.53\n",
      " 20.63228571 22.85107143 41.35833333 12.26397619 17.24183333 19.00207143\n",
      " 16.98683333 21.54166667 11.28488095 20.44085714 11.1775     44.316\n",
      " 32.28       11.5125     19.02033333 20.172      22.47166667 18.642\n",
      " 34.57309524 17.2845     19.46866667 33.33416667 13.84433333 12.07369048\n",
      " 14.96914286 19.87966667 12.39011905 34.49       21.23633333 15.71183333\n",
      " 27.805       9.85928571 10.93833333 20.94283333 32.975      24.69285714\n",
      " 24.38316667 18.63666667 32.97416667 33.54159524 12.8077381   9.34316667\n",
      " 33.706      25.02169048 13.0995     27.39952381 16.415      25.284\n",
      " 18.642      14.87233333 20.96566667 13.7775     12.5275     19.88242857\n",
      " 32.86666667 33.11516667 28.98083333 20.13066667 22.93571429 26.37395238\n",
      " 25.255      12.393      31.02933333 13.29321429 21.04183333 29.72\n",
      " 19.68066667 10.70233333 20.05566667 18.39366667 21.99733333 22.52364286\n",
      " 16.56152381 17.80483333 19.79685714 22.18833333 17.79366667 24.63066667\n",
      " 26.32130952 28.12157143 39.36266667 15.83283333 12.82433333 33.73\n",
      " 27.9277619  20.30616667 44.84214286 24.11069048 23.92747619 19.91066667\n",
      " 27.00066667 45.56364286 22.16902381 19.71383333 41.2872619  33.895\n",
      " 15.01747619 29.72       19.29283333 23.81       21.90419048 19.00866667\n",
      " 26.98633333 27.67066667 13.24619048 20.33742857 20.953      12.52707143\n",
      " 14.55714286 26.69047619 14.71083333 34.46914286 10.80238095 17.90333333\n",
      " 20.11666667 15.05764286 20.42742857 21.07683333 14.35416667 21.35702381\n",
      " 23.301      19.535      15.40319048 24.41733333 22.35133333 33.09566667\n",
      " 20.8465     22.80464286 14.83016667 20.23683333 35.03333333 18.32783333\n",
      " 39.741      23.92116667 22.31785714 16.871      32.8875     27.16130952\n",
      " 23.65652381 17.48580952 28.1795     13.4562381  10.0977381  12.45040476\n",
      " 15.77419048] [24.40419953 20.74260865 23.1856921  10.22915183 20.58647558 20.5563677\n",
      " 20.25755989 21.21606901 20.16106601 20.82377862  9.18243056 12.66338767\n",
      " 15.02878709  9.24570738 49.52153846 32.23643271 20.99820439 35.23939103\n",
      " 28.29292473 20.90898678 23.82354477 20.17039056 20.05183418 23.54144953\n",
      " 21.44326612 17.68263291 19.54353259 15.54199651 41.19569444 17.82234283\n",
      " 15.33783735 20.49848217 21.3163691  21.32944688 22.8567501  18.77744024\n",
      "  9.90951691 19.66765505 15.54480155 13.19987035 22.71088803 20.67996485\n",
      " 22.17826894 15.69361513 24.17541115 22.55017374 20.03316272 15.45145484\n",
      " 15.34291402 24.42345238 16.09494992 18.8842491  20.26707671 38.7625\n",
      " 14.77257186 19.6820469  20.90713572 19.37378005 18.89432172 19.04752719\n",
      " 22.29657259 21.14144688 30.65355137 33.70103788 20.076171   28.34237928\n",
      " 15.22261176 17.79632053 13.2648579  21.49288968 20.19735942 22.05875006\n",
      " 24.88727587 30.42556474 33.20397619  9.65570738 42.20694444 21.84420085\n",
      " 22.55017374 19.62952301 27.42881759 19.38227288 17.68263291 41.74194444\n",
      " 42.9075     23.82354477 22.76020085 17.19269453 25.5720913  16.07556517\n",
      " 19.77891984 13.00510183 23.82944953 28.98195613 21.81080711 21.78341672\n",
      "  8.94237405 23.82944953 15.26801274 20.92478075 22.55017374 19.89324907\n",
      " 27.46517543 21.1162725  25.29737466 20.38535954  9.35237405 18.31755135\n",
      " 22.05922774 22.35826894 38.070134   12.07019322 18.02457053 19.13907453\n",
      " 17.79632053 21.2451649  11.8850378  20.06402685 10.91789494 43.057\n",
      " 30.69861737 11.8277997  18.80961355 19.91369926 21.23687215 17.31337458\n",
      " 33.64950217 18.20752291 20.67093916 33.64950217 13.75752456 11.93622827\n",
      " 14.64071032 19.80022389 11.5614829  34.51412122 21.29543891 15.70624735\n",
      " 27.34675876  9.54118357 10.35458635 19.62952301 31.51370339 24.04982939\n",
      " 24.38994953 19.05274018 33.79512929 32.4994038  12.37327313  9.69761215\n",
      " 32.24545071 23.98028287 14.36715671 26.18604432 16.57634576 25.32927587\n",
      " 17.31337458 15.30613544 20.16416441 14.73423075 12.05021757 20.82377862\n",
      " 32.11026221 33.9807749  29.12950676 20.8577866  23.14761643 27.42881759\n",
      " 23.04827532 13.6692907  28.9972932  13.19009663 20.49848217 27.73829477\n",
      " 19.25395331 10.36371334 18.8082969  18.27955862 23.62059313 22.53088803\n",
      " 16.60393513 19.54313071 20.90898678 21.51480447 17.73109283 24.31966656\n",
      " 25.52566283 27.89306759 37.80542464 15.91604602 12.60169905 32.10843864\n",
      " 29.55359318 20.71941349 44.71653846 23.54144953 24.17541115 19.34367553\n",
      " 26.43979477 45.29394444 22.55017374 19.35036087 39.7769631  34.91005481\n",
      " 15.49678902 27.73829477 19.99967907 23.64729477 20.99820439 19.72561359\n",
      " 27.81013627 26.062554   13.78234322 20.77223885 21.14667403 12.7480185\n",
      " 13.90649005 26.02695238 15.46305585 35.10105769 10.6108185  17.86146673\n",
      " 19.73119926 15.13622451 21.42547243 20.40875995 14.73423075 21.43330097\n",
      " 23.36519953 20.05183418 15.26801274 22.90138803 21.6423166  33.10732143\n",
      " 20.51799446 21.91464164 14.23397096 20.47676342 32.90093864 18.49879855\n",
      " 41.5105     24.36324606 21.11314884 16.57634576 31.15855137 27.4320914\n",
      " 25.56470248 15.29290966 28.41555939 14.12552829  9.94570738 12.33963105\n",
      " 15.93786607]\n"
     ]
    }
   ],
   "source": [
    "print(predictions,predictions2)"
   ]
  },
  {
   "cell_type": "code",
   "execution_count": 185,
   "metadata": {},
   "outputs": [
    {
     "name": "stdout",
     "output_type": "stream",
     "text": [
      "<function roc_auc_score at 0x1a1ff747b8>\n"
     ]
    }
   ],
   "source": [
    "print(roc_auc_score)"
   ]
  },
  {
   "cell_type": "code",
   "execution_count": 188,
   "metadata": {},
   "outputs": [
    {
     "ename": "ValueError",
     "evalue": "continuous format is not supported",
     "output_type": "error",
     "traceback": [
      "\u001b[0;31m---------------------------------------------------------------------------\u001b[0m",
      "\u001b[0;31mValueError\u001b[0m                                Traceback (most recent call last)",
      "\u001b[0;32m<ipython-input-188-145d593c2e6c>\u001b[0m in \u001b[0;36m<module>\u001b[0;34m\u001b[0m\n\u001b[0;32m----> 1\u001b[0;31m \u001b[0mroc_auc_score\u001b[0m\u001b[0;34m(\u001b[0m\u001b[0my_test\u001b[0m\u001b[0;34m,\u001b[0m\u001b[0mpredictions\u001b[0m\u001b[0;34m)\u001b[0m\u001b[0;34m\u001b[0m\u001b[0;34m\u001b[0m\u001b[0m\n\u001b[0m",
      "\u001b[0;32m/anaconda3/lib/python3.7/site-packages/sklearn/metrics/ranking.py\u001b[0m in \u001b[0;36mroc_auc_score\u001b[0;34m(y_true, y_score, average, sample_weight, max_fpr)\u001b[0m\n\u001b[1;32m    354\u001b[0m     return _average_binary_score(\n\u001b[1;32m    355\u001b[0m         \u001b[0m_binary_roc_auc_score\u001b[0m\u001b[0;34m,\u001b[0m \u001b[0my_true\u001b[0m\u001b[0;34m,\u001b[0m \u001b[0my_score\u001b[0m\u001b[0;34m,\u001b[0m \u001b[0maverage\u001b[0m\u001b[0;34m,\u001b[0m\u001b[0;34m\u001b[0m\u001b[0;34m\u001b[0m\u001b[0m\n\u001b[0;32m--> 356\u001b[0;31m         sample_weight=sample_weight)\n\u001b[0m\u001b[1;32m    357\u001b[0m \u001b[0;34m\u001b[0m\u001b[0m\n\u001b[1;32m    358\u001b[0m \u001b[0;34m\u001b[0m\u001b[0m\n",
      "\u001b[0;32m/anaconda3/lib/python3.7/site-packages/sklearn/metrics/base.py\u001b[0m in \u001b[0;36m_average_binary_score\u001b[0;34m(binary_metric, y_true, y_score, average, sample_weight)\u001b[0m\n\u001b[1;32m     72\u001b[0m     \u001b[0my_type\u001b[0m \u001b[0;34m=\u001b[0m \u001b[0mtype_of_target\u001b[0m\u001b[0;34m(\u001b[0m\u001b[0my_true\u001b[0m\u001b[0;34m)\u001b[0m\u001b[0;34m\u001b[0m\u001b[0;34m\u001b[0m\u001b[0m\n\u001b[1;32m     73\u001b[0m     \u001b[0;32mif\u001b[0m \u001b[0my_type\u001b[0m \u001b[0;32mnot\u001b[0m \u001b[0;32min\u001b[0m \u001b[0;34m(\u001b[0m\u001b[0;34m\"binary\"\u001b[0m\u001b[0;34m,\u001b[0m \u001b[0;34m\"multilabel-indicator\"\u001b[0m\u001b[0;34m)\u001b[0m\u001b[0;34m:\u001b[0m\u001b[0;34m\u001b[0m\u001b[0;34m\u001b[0m\u001b[0m\n\u001b[0;32m---> 74\u001b[0;31m         \u001b[0;32mraise\u001b[0m \u001b[0mValueError\u001b[0m\u001b[0;34m(\u001b[0m\u001b[0;34m\"{0} format is not supported\"\u001b[0m\u001b[0;34m.\u001b[0m\u001b[0mformat\u001b[0m\u001b[0;34m(\u001b[0m\u001b[0my_type\u001b[0m\u001b[0;34m)\u001b[0m\u001b[0;34m)\u001b[0m\u001b[0;34m\u001b[0m\u001b[0;34m\u001b[0m\u001b[0m\n\u001b[0m\u001b[1;32m     75\u001b[0m \u001b[0;34m\u001b[0m\u001b[0m\n\u001b[1;32m     76\u001b[0m     \u001b[0;32mif\u001b[0m \u001b[0my_type\u001b[0m \u001b[0;34m==\u001b[0m \u001b[0;34m\"binary\"\u001b[0m\u001b[0;34m:\u001b[0m\u001b[0;34m\u001b[0m\u001b[0;34m\u001b[0m\u001b[0m\n",
      "\u001b[0;31mValueError\u001b[0m: continuous format is not supported"
     ]
    }
   ],
   "source": [
    "roc_auc_score(y_test,predictions)"
   ]
  },
  {
   "cell_type": "code",
   "execution_count": 189,
   "metadata": {},
   "outputs": [],
   "source": [
    "y1=np.array(y_test)"
   ]
  },
  {
   "cell_type": "code",
   "execution_count": 192,
   "metadata": {},
   "outputs": [],
   "source": [
    "p=np.array(predictions)"
   ]
  },
  {
   "cell_type": "code",
   "execution_count": 194,
   "metadata": {},
   "outputs": [
    {
     "ename": "ValueError",
     "evalue": "continuous format is not supported",
     "output_type": "error",
     "traceback": [
      "\u001b[0;31m---------------------------------------------------------------------------\u001b[0m",
      "\u001b[0;31mValueError\u001b[0m                                Traceback (most recent call last)",
      "\u001b[0;32m<ipython-input-194-9aacf587776c>\u001b[0m in \u001b[0;36m<module>\u001b[0;34m\u001b[0m\n\u001b[0;32m----> 1\u001b[0;31m \u001b[0mroc_auc_score\u001b[0m\u001b[0;34m(\u001b[0m\u001b[0mpredictions\u001b[0m\u001b[0;34m,\u001b[0m\u001b[0mpredictions2\u001b[0m\u001b[0;34m)\u001b[0m\u001b[0;34m\u001b[0m\u001b[0;34m\u001b[0m\u001b[0m\n\u001b[0m",
      "\u001b[0;32m/anaconda3/lib/python3.7/site-packages/sklearn/metrics/ranking.py\u001b[0m in \u001b[0;36mroc_auc_score\u001b[0;34m(y_true, y_score, average, sample_weight, max_fpr)\u001b[0m\n\u001b[1;32m    354\u001b[0m     return _average_binary_score(\n\u001b[1;32m    355\u001b[0m         \u001b[0m_binary_roc_auc_score\u001b[0m\u001b[0;34m,\u001b[0m \u001b[0my_true\u001b[0m\u001b[0;34m,\u001b[0m \u001b[0my_score\u001b[0m\u001b[0;34m,\u001b[0m \u001b[0maverage\u001b[0m\u001b[0;34m,\u001b[0m\u001b[0;34m\u001b[0m\u001b[0;34m\u001b[0m\u001b[0m\n\u001b[0;32m--> 356\u001b[0;31m         sample_weight=sample_weight)\n\u001b[0m\u001b[1;32m    357\u001b[0m \u001b[0;34m\u001b[0m\u001b[0m\n\u001b[1;32m    358\u001b[0m \u001b[0;34m\u001b[0m\u001b[0m\n",
      "\u001b[0;32m/anaconda3/lib/python3.7/site-packages/sklearn/metrics/base.py\u001b[0m in \u001b[0;36m_average_binary_score\u001b[0;34m(binary_metric, y_true, y_score, average, sample_weight)\u001b[0m\n\u001b[1;32m     72\u001b[0m     \u001b[0my_type\u001b[0m \u001b[0;34m=\u001b[0m \u001b[0mtype_of_target\u001b[0m\u001b[0;34m(\u001b[0m\u001b[0my_true\u001b[0m\u001b[0;34m)\u001b[0m\u001b[0;34m\u001b[0m\u001b[0;34m\u001b[0m\u001b[0m\n\u001b[1;32m     73\u001b[0m     \u001b[0;32mif\u001b[0m \u001b[0my_type\u001b[0m \u001b[0;32mnot\u001b[0m \u001b[0;32min\u001b[0m \u001b[0;34m(\u001b[0m\u001b[0;34m\"binary\"\u001b[0m\u001b[0;34m,\u001b[0m \u001b[0;34m\"multilabel-indicator\"\u001b[0m\u001b[0;34m)\u001b[0m\u001b[0;34m:\u001b[0m\u001b[0;34m\u001b[0m\u001b[0;34m\u001b[0m\u001b[0m\n\u001b[0;32m---> 74\u001b[0;31m         \u001b[0;32mraise\u001b[0m \u001b[0mValueError\u001b[0m\u001b[0;34m(\u001b[0m\u001b[0;34m\"{0} format is not supported\"\u001b[0m\u001b[0;34m.\u001b[0m\u001b[0mformat\u001b[0m\u001b[0;34m(\u001b[0m\u001b[0my_type\u001b[0m\u001b[0;34m)\u001b[0m\u001b[0;34m)\u001b[0m\u001b[0;34m\u001b[0m\u001b[0;34m\u001b[0m\u001b[0m\n\u001b[0m\u001b[1;32m     75\u001b[0m \u001b[0;34m\u001b[0m\u001b[0m\n\u001b[1;32m     76\u001b[0m     \u001b[0;32mif\u001b[0m \u001b[0my_type\u001b[0m \u001b[0;34m==\u001b[0m \u001b[0;34m\"binary\"\u001b[0m\u001b[0;34m:\u001b[0m\u001b[0;34m\u001b[0m\u001b[0;34m\u001b[0m\u001b[0m\n",
      "\u001b[0;31mValueError\u001b[0m: continuous format is not supported"
     ]
    }
   ],
   "source": [
    "roc_auc_score(predictions,predictions2)"
   ]
  },
  {
   "cell_type": "code",
   "execution_count": 199,
   "metadata": {},
   "outputs": [],
   "source": [
    "combined=(predictions+predictions2)/2\n",
    "rounded=np.round(combined)"
   ]
  },
  {
   "cell_type": "code",
   "execution_count": 200,
   "metadata": {},
   "outputs": [
    {
     "data": {
      "text/plain": [
       "array([25., 22., 24., 10., 21., 21., 21., 21., 21., 21.,  9., 13., 15.,\n",
       "        9., 49., 32., 21., 35., 28., 21., 24., 20., 20., 24., 21., 17.,\n",
       "       19., 15., 40., 18., 15., 21., 21., 21., 24., 19., 10., 21., 15.,\n",
       "       13., 23., 21., 22., 15., 24., 23., 20., 16., 15., 25., 16., 19.,\n",
       "       20., 39., 14., 19., 21., 19., 19., 19., 22., 22., 31., 33., 21.,\n",
       "       29., 16., 17., 14., 22., 20., 22., 26., 31., 32., 10., 42., 22.,\n",
       "       22., 20., 28., 19., 17., 41., 43., 24., 23., 17., 27., 17., 20.,\n",
       "       13., 24., 30., 22., 22.,  9., 24., 15., 20., 23., 20., 28., 22.,\n",
       "       26., 21.,  9., 18., 21., 23., 40., 12., 18., 19., 17., 21., 12.,\n",
       "       20., 11., 44., 31., 12., 19., 20., 22., 18., 34., 18., 20., 33.,\n",
       "       14., 12., 15., 20., 12., 35., 21., 16., 28., 10., 11., 20., 32.,\n",
       "       24., 24., 19., 33., 33., 13., 10., 33., 25., 14., 27., 16., 25.,\n",
       "       18., 15., 21., 14., 12., 20., 32., 34., 29., 20., 23., 27., 24.,\n",
       "       13., 30., 13., 21., 29., 19., 11., 19., 18., 23., 23., 17., 19.,\n",
       "       20., 22., 18., 24., 26., 28., 39., 16., 13., 33., 29., 21., 45.,\n",
       "       24., 24., 20., 27., 45., 22., 20., 41., 34., 15., 29., 20., 24.,\n",
       "       21., 19., 27., 27., 14., 21., 21., 13., 14., 26., 15., 35., 11.,\n",
       "       18., 20., 15., 21., 21., 15., 21., 23., 20., 15., 24., 22., 33.,\n",
       "       21., 22., 15., 20., 34., 18., 41., 24., 22., 17., 32., 27., 25.,\n",
       "       16., 28., 14., 10., 12., 16.])"
      ]
     },
     "execution_count": 200,
     "metadata": {},
     "output_type": "execute_result"
    }
   ],
   "source": [
    "rounded"
   ]
  },
  {
   "cell_type": "code",
   "execution_count": 201,
   "metadata": {},
   "outputs": [
    {
     "name": "stdout",
     "output_type": "stream",
     "text": [
      "[22.6 50.  23.   8.3 21.2 19.9 20.6 18.7 16.1 18.6  8.8 17.2 14.9 10.5\n",
      " 50.  29.  23.  33.3 29.4 21.  23.8 19.1 20.4 29.1 19.3 23.1 19.6 19.4\n",
      " 38.7 18.7 14.6 20.  20.5 20.1 23.6 16.8  5.6 50.  14.5 13.3 23.9 20.\n",
      " 19.8 13.8 16.5 21.6 20.3 17.  11.8 27.5 15.6 23.1 24.3 42.8 15.6 21.7\n",
      " 17.1 17.2 15.  21.7 18.6 21.  33.1 31.5 20.1 29.8 15.2 15.  27.5 22.6\n",
      " 20.  21.4 23.5 31.2 23.7  7.4 48.3 24.4 22.6 18.3 23.3 17.1 27.9 44.8\n",
      " 50.  23.  21.4 10.2 23.3 23.2 18.9 13.4 21.9 24.8 11.9 24.3 13.8 24.7\n",
      " 14.1 18.7 28.1 19.8 26.7 21.7 22.  22.9 10.4 21.9 20.6 26.4 41.3 17.2\n",
      " 27.1 20.4 16.5 24.4  8.4 23.   9.7 50.  30.5 12.3 19.4 21.2 20.3 18.8\n",
      " 33.4 18.5 19.6 33.2 13.1  7.5 13.6 17.4  8.4 35.4 24.  13.4 26.2  7.2\n",
      " 13.1 24.5 37.2 25.  24.1 16.6 32.9 36.2 11.   7.2 22.8 28.7 14.4 24.4\n",
      " 18.1 22.5 20.5 15.2 17.4 13.6  8.7 18.2 35.4 31.7 33.  22.2 20.4 23.9\n",
      " 25.  12.7 29.1 12.  17.7 27.  20.6 10.2 17.5 19.7 29.8 20.5 14.9 10.9\n",
      " 19.5 22.7 19.5 24.6 25.  24.5 50.  14.3 11.8 31.  28.7 16.2 43.5 25.\n",
      " 22.  19.9 22.1 46.  22.9 20.2 43.1 34.6 13.8 24.3 21.5 24.4 21.2 23.8\n",
      " 26.6 25.1  9.6 19.4 19.4  9.5 14.  26.5 13.8 34.7 16.3 21.7 17.5 15.6\n",
      " 20.9 21.7 12.7 18.5 23.7 19.3 12.7 21.6 23.2 29.6 21.2 23.8 17.1 22.\n",
      " 36.5 18.8 21.9 23.1 20.2 17.4 37.  24.1 36.2 15.7 32.2 13.5 17.9 13.3\n",
      " 11.7] [25. 22. 24. 10. 21. 21. 21. 21. 21. 21.  9. 13. 15.  9. 49. 32. 21. 35.\n",
      " 28. 21. 24. 20. 20. 24. 21. 17. 19. 15. 40. 18. 15. 21. 21. 21. 24. 19.\n",
      " 10. 21. 15. 13. 23. 21. 22. 15. 24. 23. 20. 16. 15. 25. 16. 19. 20. 39.\n",
      " 14. 19. 21. 19. 19. 19. 22. 22. 31. 33. 21. 29. 16. 17. 14. 22. 20. 22.\n",
      " 26. 31. 32. 10. 42. 22. 22. 20. 28. 19. 17. 41. 43. 24. 23. 17. 27. 17.\n",
      " 20. 13. 24. 30. 22. 22.  9. 24. 15. 20. 23. 20. 28. 22. 26. 21.  9. 18.\n",
      " 21. 23. 40. 12. 18. 19. 17. 21. 12. 20. 11. 44. 31. 12. 19. 20. 22. 18.\n",
      " 34. 18. 20. 33. 14. 12. 15. 20. 12. 35. 21. 16. 28. 10. 11. 20. 32. 24.\n",
      " 24. 19. 33. 33. 13. 10. 33. 25. 14. 27. 16. 25. 18. 15. 21. 14. 12. 20.\n",
      " 32. 34. 29. 20. 23. 27. 24. 13. 30. 13. 21. 29. 19. 11. 19. 18. 23. 23.\n",
      " 17. 19. 20. 22. 18. 24. 26. 28. 39. 16. 13. 33. 29. 21. 45. 24. 24. 20.\n",
      " 27. 45. 22. 20. 41. 34. 15. 29. 20. 24. 21. 19. 27. 27. 14. 21. 21. 13.\n",
      " 14. 26. 15. 35. 11. 18. 20. 15. 21. 21. 15. 21. 23. 20. 15. 24. 22. 33.\n",
      " 21. 22. 15. 20. 34. 18. 41. 24. 22. 17. 32. 27. 25. 16. 28. 14. 10. 12.\n",
      " 16.]\n"
     ]
    }
   ],
   "source": [
    "print(y_test,rounded)"
   ]
  },
  {
   "cell_type": "code",
   "execution_count": null,
   "metadata": {},
   "outputs": [],
   "source": []
  }
 ],
 "metadata": {
  "kernelspec": {
   "display_name": "Python 3",
   "language": "python",
   "name": "python3"
  },
  "language_info": {
   "codemirror_mode": {
    "name": "ipython",
    "version": 3
   },
   "file_extension": ".py",
   "mimetype": "text/x-python",
   "name": "python",
   "nbconvert_exporter": "python",
   "pygments_lexer": "ipython3",
   "version": "3.7.3"
  }
 },
 "nbformat": 4,
 "nbformat_minor": 2
}
